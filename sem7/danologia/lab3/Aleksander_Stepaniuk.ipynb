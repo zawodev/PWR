{
 "cells": [
  {
   "cell_type": "markdown",
   "id": "db07c036",
   "metadata": {},
   "source": [
    "# Demonstracja metody bootstrap\n",
    "Aleksander Stepaniuk 272644"
   ]
  },
  {
   "cell_type": "code",
   "execution_count": 1,
   "id": "0a572ace",
   "metadata": {},
   "outputs": [],
   "source": [
    "from sklearn.linear_model import LinearRegression\n",
    "import pandas as pd\n",
    "import numpy as np\n",
    "import csv\n",
    "import matplotlib.pyplot as plt\n",
    "\n",
    "data = pd.read_excel('pomiary2017.xlsx')\n",
    "data = data.to_numpy()\n",
    "\n",
    "wzrosty = data[:, 5]"
   ]
  },
  {
   "cell_type": "code",
   "execution_count": null,
   "id": "963ccd25",
   "metadata": {},
   "outputs": [],
   "source": [
    "# naprawienie danych, podmieniam na mój osobisty wzrost (zamiast nan)\n",
    "wzrosty[3] = 176.0"
   ]
  },
  {
   "cell_type": "code",
   "execution_count": 5,
   "id": "e8636ee7",
   "metadata": {},
   "outputs": [
    {
     "name": "stdout",
     "output_type": "stream",
     "text": [
      "[184.0 78.0 178.0 176.0 175.0 197.0 182.0 172.0 180.0 181.0 185.0 180.0\n",
      " 185.0 177.0 174.0 190.0 162.0 186.0 178.0 167.0 186.0 174.0 165.0 178.0\n",
      " 174.0 170.0 175.0 160.0 186.0 173.0 180.0 180.0 195.0 177.0 170.0 164.0\n",
      " 169.0 169.0 188.0 161.0 189.0 180.0 176.0]\n"
     ]
    }
   ],
   "source": [
    "print(wzrosty)"
   ]
  },
  {
   "cell_type": "markdown",
   "id": "b0b36f6d",
   "metadata": {},
   "source": [
    "## Definicje:\n",
    "+ `TRIES` - ilość prób (arbitralnie ustawione na 10)\n",
    "+ `output` - tabela wynikowa, zwracająca kolejne średnie, po zastosowaniu na zbiorze data metody bootstrap `iter_num` razy\n",
    "+ `variance`, `min_val`, `max_val`, `mean` oraz `std` to kolejno: wariancja, minimalna wartość, maksymalna wartość, średnia danych wynikowych oraz odchylenie standarodwe; dla lepszego zobrazowania danych wynikowych"
   ]
  },
  {
   "cell_type": "markdown",
   "id": "e73759c4",
   "metadata": {},
   "source": [
    "## Opis działania:\n",
    "Metoda bootstrap otrzymuje na wejściu:\n",
    "+ `data` - zbiór danych wejściowych\n",
    "+ `iter_num` - ilość iteracji (arbitralna)\n",
    "+ `sample_size` - rozmiar podzbioru, czyli ile razy wyciągamy wartość (w tym przypadku będzie to równe rozmiarowi zbioru)\n",
    "\n",
    "Później w pętli bierzemy sample (czyli pozdbiór losowanych elementów zbioru `data`, z powtórzeniami, ponieważ flaga `replace=True`). Następnie kiedy mamy taki podzbiór, liczymy jego średnią, a końcowo appendujemy na koniec tablicy wynikowej. Proces powtarzamy `iter_num` razy."
   ]
  },
  {
   "cell_type": "code",
   "execution_count": 26,
   "id": "e64e2f8f",
   "metadata": {},
   "outputs": [
    {
     "name": "stdout",
     "output_type": "stream",
     "text": [
      "Output: [np.float64(173.72093023255815), np.float64(174.8372093023256), np.float64(176.02325581395348), np.float64(171.8372093023256), np.float64(175.7906976744186), np.float64(176.88372093023256), np.float64(176.6046511627907), np.float64(179.58139534883722), np.float64(173.53488372093022), np.float64(171.58139534883722)]\n",
      "Variance: 5.426830719307729\n",
      "MinVal: 171.58139534883722\n",
      "MaxVal: 179.58139534883722\n",
      "Mean: 175.03953488372093\n",
      "Standard Deviation: 2.3295559060275264\n"
     ]
    }
   ],
   "source": [
    "def bootstrap(data, iter_num, sample_size):\n",
    "    output = []\n",
    "    for i in range(iter_num):\n",
    "        sample = np.random.choice(data, size=sample_size, replace=True)\n",
    "        stat = np.mean(sample)\n",
    "        output.append(stat)\n",
    "    return output\n",
    "\n",
    "TRIES = 10\n",
    "\n",
    "output = bootstrap(wzrosty, TRIES, len(wzrosty))\n",
    "variance = np.var(output)\n",
    "min_val = np.min(output)\n",
    "max_val = np.max(output)\n",
    "mean = np.mean(output)\n",
    "std = np.std(output)\n",
    "\n",
    "print(f\"Output: {output}\")\n",
    "print(f\"Variance: {variance}\")\n",
    "print(f\"MinVal: {min_val}\")\n",
    "print(f\"MaxVal: {max_val}\")\n",
    "print(f\"Mean: {mean}\")\n",
    "print(f\"Standard Deviation: {std}\")"
   ]
  },
  {
   "cell_type": "markdown",
   "id": "eaad3223",
   "metadata": {},
   "source": [
    "## Przykładowe wyniki:\n",
    "+ Output: [np.float64(173.72093023255815), np.float64(174.8372093023256), np.float64(176.02325581395348), np.float64(171.8372093023256), np.float64(175.7906976744186), np.float64(176.88372093023256), np.float64(176.6046511627907), np.float64(179.58139534883722), np.float64(173.53488372093022), np.float64(171.58139534883722)]\n",
    "+ Variance: 5.426830719307729\n",
    "+ MinVal: 171.58139534883722\n",
    "+ MaxVal: 179.58139534883722\n",
    "+ Mean: 175.03953488372093\n",
    "+ Standard Deviation: 2.3295559060275264"
   ]
  }
 ],
 "metadata": {
  "kernelspec": {
   "display_name": ".venv",
   "language": "python",
   "name": "python3"
  },
  "language_info": {
   "codemirror_mode": {
    "name": "ipython",
    "version": 3
   },
   "file_extension": ".py",
   "mimetype": "text/x-python",
   "name": "python",
   "nbconvert_exporter": "python",
   "pygments_lexer": "ipython3",
   "version": "3.13.8"
  }
 },
 "nbformat": 4,
 "nbformat_minor": 5
}
