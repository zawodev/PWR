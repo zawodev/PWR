{
 "cells": [
  {
   "cell_type": "code",
   "execution_count": 1,
   "id": "4f31acf4",
   "metadata": {},
   "outputs": [
    {
     "name": "stdout",
     "output_type": "stream",
     "text": [
      "Hello\n"
     ]
    }
   ],
   "source": [
    "print(\"Hello\")"
   ]
  },
  {
   "cell_type": "markdown",
   "id": "311a70ea",
   "metadata": {},
   "source": [
    "** Wstęp **\n",
    "# 1. Wstęp\n",
    "\n",
    "+ abc\n",
    "+ gde\n",
    "\n",
    "1. abc\n",
    "2. oifrji\n",
    "\n",
    "`Akcent grafisowy`"
   ]
  }
 ],
 "metadata": {
  "kernelspec": {
   "display_name": ".venv",
   "language": "python",
   "name": "python3"
  },
  "language_info": {
   "codemirror_mode": {
    "name": "ipython",
    "version": 3
   },
   "file_extension": ".py",
   "mimetype": "text/x-python",
   "name": "python",
   "nbconvert_exporter": "python",
   "pygments_lexer": "ipython3",
   "version": "3.13.7"
  }
 },
 "nbformat": 4,
 "nbformat_minor": 5
}
