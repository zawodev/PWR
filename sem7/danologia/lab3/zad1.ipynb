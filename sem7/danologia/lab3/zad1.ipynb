{
 "cells": [
  {
   "cell_type": "code",
   "execution_count": 1,
   "id": "d33610e2",
   "metadata": {},
   "outputs": [],
   "source": [
    "from sklearn.linear_model import LinearRegression\n",
    "import pandas as pd\n",
    "import numpy as np\n",
    "import csv\n",
    "import matplotlib.pyplot as plt"
   ]
  },
  {
   "cell_type": "code",
   "execution_count": 2,
   "id": "b19a6ce5",
   "metadata": {},
   "outputs": [],
   "source": [
    "data = pd.read_excel('pomiary2017.xlsx')\n",
    "data = data.to_numpy()"
   ]
  },
  {
   "cell_type": "code",
   "execution_count": null,
   "id": "ab6d6f87",
   "metadata": {},
   "outputs": [],
   "source": [
    "print(data.ndim)\n",
    "print(data.size)\n",
    "print(data.shape)\n",
    "\n",
    "print(data.flatten())\n",
    "\n",
    "y = data.flatten()\n",
    "y[0] = 10000\n",
    "\n",
    "print(data)"
   ]
  },
  {
   "cell_type": "code",
   "execution_count": null,
   "id": "3e07313d",
   "metadata": {},
   "outputs": [],
   "source": [
    "wzrosty = data[:, 5]\n",
    "wagi = data[:, 4]\n",
    "plec = data[:, 6]\n",
    "\n",
    "# zamieniamy wage i wzrost drugiego czlowieka\n",
    "temp = wzrosty[1]\n",
    "wzrosty[1] = wagi[1]\n",
    "wagi[1] = temp"
   ]
  },
  {
   "cell_type": "code",
   "execution_count": 14,
   "id": "76025dad",
   "metadata": {},
   "outputs": [
    {
     "name": "stdout",
     "output_type": "stream",
     "text": [
      "177.51162790697674\n"
     ]
    }
   ],
   "source": [
    "print(np.mean(wzrosty))"
   ]
  },
  {
   "cell_type": "code",
   "execution_count": 15,
   "id": "f2ac455a",
   "metadata": {},
   "outputs": [],
   "source": [
    "# wzrost 3 nie istnial\n",
    "wzrosty[3] = 177"
   ]
  },
  {
   "cell_type": "code",
   "execution_count": 16,
   "id": "18cd4d5f",
   "metadata": {},
   "outputs": [
    {
     "data": {
      "image/png": "[encoded data removed]",
      "text/plain": [
       "<Figure size 640x480 with 1 Axes>"
      ]
     },
     "metadata": {},
     "output_type": "display_data"
    }
   ],
   "source": [
    "# scatter plot with color by gender\n",
    "colors = ['blue' if p == 'M' else 'red' for p in plec]\n",
    "plt.scatter(wzrosty, wagi, c=colors)\n",
    "plt.xlabel('Wzrost (cm)')\n",
    "plt.ylabel('Waga (kg)')\n",
    "plt.title('Zależność wagi od wzrostu')\n",
    "plt.show()"
   ]
  },
  {
   "cell_type": "code",
   "execution_count": null,
   "id": "02e0378c",
   "metadata": {},
   "outputs": [
    {
     "name": "stdout",
     "output_type": "stream",
     "text": [
      "(12,)\n",
      "[ 0  1  2  3  4  5  6  7  8  9 10 11]\n",
      "[[ 0  1  2  3  4  5  6  7  8  9 10 11]]\n"
     ]
    }
   ],
   "source": [
    "#np.array([[1, 2, 3]])\n",
    "tab = np.arange(12)\n",
    "print(tab.shape)\n",
    "#tab.reshape(3, 4)\n",
    "#tab.reshape(3, -1)\n",
    "\n",
    "print(tab)\n",
    "print(tab.reshape(1, -1))\n",
    "\n",
    "#tab[np.newaxis, :] #niby to samo ale czyściej\n",
    "\n",
    "#przydatne funkcje:\n",
    "#hstack\n",
    "#vstack\n",
    "#column_stack"
   ]
  },
  {
   "cell_type": "code",
   "execution_count": 17,
   "id": "08545e95",
   "metadata": {},
   "outputs": [
    {
     "name": "stdout",
     "output_type": "stream",
     "text": [
      "Coefficient: [[1.00937136]]\n",
      "Intercept: [-107.47813348]\n"
     ]
    },
    {
     "data": {
      "text/plain": [
       "0.34952976706613514"
      ]
     },
     "execution_count": 17,
     "metadata": {},
     "output_type": "execute_result"
    }
   ],
   "source": [
    "# Linear Regression for wzrosty and wagi\n",
    "lr = LinearRegression()\n",
    "\n",
    "# Reshape wzrosty and wagi to be 2D arrays for LinearRegression\n",
    "wzrosty_reshaped = wzrosty.reshape(-1, 1)\n",
    "wagi_reshaped = wagi.reshape(-1, 1)\n",
    "\n",
    "# Fit the model\n",
    "lr.fit(wzrosty_reshaped, wagi_reshaped)\n",
    "\n",
    "# Print the coefficients\n",
    "print(\"Coefficient:\", lr.coef_)\n",
    "print(\"Intercept:\", lr.intercept_)\n",
    "\n",
    "lr.predict([[176]])\n",
    "\n",
    "lr.score(wzrosty_reshaped, wagi_reshaped)"
   ]
  },
  {
   "cell_type": "code",
   "execution_count": 18,
   "id": "1268b1b1",
   "metadata": {},
   "outputs": [
    {
     "name": "stdout",
     "output_type": "stream",
     "text": [
      "Training set shape: (34, 1) (34, 1)\n",
      "Testing set shape: (9, 1) (9, 1)\n"
     ]
    }
   ],
   "source": [
    "# Example of train-test split using scikit-learn\n",
    "from sklearn.model_selection import train_test_split\n",
    "\n",
    "# Split the data into training and testing sets\n",
    "X_train, X_test, y_train, y_test = train_test_split(wzrosty_reshaped, wagi_reshaped, test_size=0.2, random_state=42)\n",
    "\n",
    "# Print the shapes of the resulting datasets\n",
    "print(\"Training set shape:\", X_train.shape, y_train.shape)\n",
    "print(\"Testing set shape:\", X_test.shape, y_test.shape)"
   ]
  },
  {
   "cell_type": "code",
   "execution_count": 19,
   "id": "8ba164d8",
   "metadata": {},
   "outputs": [
    {
     "name": "stdout",
     "output_type": "stream",
     "text": [
      "Predictions: [63.18083041 68.40118302 64.22490094 63.18083041 64.22490094 54.82826624\n",
      " 69.44525355 79.88595877 74.66560616]\n",
      "Actual values: [63 54 80 56 58 65 60 80 70]\n",
      "-0.008164405915639605\n"
     ]
    }
   ],
   "source": [
    "# Train the model on the training data and predict on the test data\n",
    "lr = LinearRegression()\n",
    "\n",
    "# Fit the model on the training data\n",
    "lr.fit(X_train, y_train)\n",
    "\n",
    "# Predict on the test data\n",
    "y_pred = lr.predict(X_test)\n",
    "\n",
    "# Print predictions and actual values\n",
    "print(\"Predictions:\", y_pred.flatten())\n",
    "print(\"Actual values:\", y_test.flatten())\n",
    "\n",
    "print(lr.score(X_test, y_test))"
   ]
  },
  {
   "cell_type": "code",
   "execution_count": null,
   "id": "9c734b6c",
   "metadata": {},
   "outputs": [],
   "source": []
  },
  {
   "cell_type": "code",
   "execution_count": null,
   "id": "d0b239fc",
   "metadata": {},
   "outputs": [],
   "source": [
    "# cross_val_score"
   ]
  },
  {
   "cell_type": "code",
   "execution_count": null,
   "id": "d5a3ddaf",
   "metadata": {},
   "outputs": [],
   "source": [
    "import numpy as np\n",
    "\n",
    "def bootstrap(data, n_iterations, sample_size):\n",
    "    statistics = []\n",
    "    for _ in range(n_iterations):\n",
    "        sample = np.random.choice(data, size=sample_size, replace=True)\n",
    "        stat = np.mean(sample)\n",
    "        statistics.append(stat)\n",
    "    return statistics\n",
    "\n",
    "print(boo)"
   ]
  }
 ],
 "metadata": {
  "kernelspec": {
   "display_name": ".venv",
   "language": "python",
   "name": "python3"
  },
  "language_info": {
   "codemirror_mode": {
    "name": "ipython",
    "version": 3
   },
   "file_extension": ".py",
   "mimetype": "text/x-python",
   "name": "python",
   "nbconvert_exporter": "python",
   "pygments_lexer": "ipython3",
   "version": "3.13.8"
  }
 },
 "nbformat": 4,
 "nbformat_minor": 5
}
