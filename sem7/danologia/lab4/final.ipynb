{
 "cells": [
  {
   "cell_type": "code",
   "execution_count": null,
   "id": "63625064",
   "metadata": {},
   "outputs": [],
   "source": [
    "import pandas as pd\n",
    "import numpy as np\n",
    "import matplotlib.pyplot as plt\n",
    "from mlxtend.preprocessing import TransactionEncoder\n",
    "from mlxtend.frequent_patterns import apriori, association_rules"
   ]
  },
  {
   "cell_type": "code",
   "execution_count": null,
   "id": "a43c96f3",
   "metadata": {},
   "outputs": [],
   "source": [
    "data = pd.read_csv('supermarket.csv', header=None)\n",
    "transactions = data.apply(lambda x: x.dropna().tolist(), axis=1).tolist()\n",
    "print(f\"Liczba transakcji: {len(transactions)}\")\n",
    "print(f\"Przykładowa transakcja: {transactions[0]}\")"
   ]
  },
  {
   "cell_type": "code",
   "execution_count": null,
   "id": "fa4e5c36",
   "metadata": {},
   "outputs": [],
   "source": [
    "te = TransactionEncoder()\n",
    "te_data = te.fit(transactions).transform(transactions)\n",
    "df = pd.DataFrame(te_data, columns=te.columns_)\n",
    "print(df.head())"
   ]
  },
  {
   "cell_type": "markdown",
   "id": "b1f56a7e",
   "metadata": {},
   "source": [
    "### Zadanie 1: Najliczniejszy zbiór częsty (min support 20%)"
   ]
  },
  {
   "cell_type": "code",
   "execution_count": null,
   "id": "c967beed",
   "metadata": {},
   "outputs": [],
   "source": [
    "frequent_itemsets = apriori(df, min_support=0.20, use_colnames=True)\n",
    "frequent_itemsets['length'] = frequent_itemsets['itemsets'].apply(lambda x: len(x))\n",
    "max_length = frequent_itemsets['length'].max()\n",
    "largest_itemsets = frequent_itemsets[frequent_itemsets['length'] == max_length]\n",
    "result = largest_itemsets.sort_values('support', ascending=False).iloc[0]\n",
    "print(f\"Produkty: {result['itemsets']}\")\n",
    "print(f\"Wsparcie: {result['support']:.2f}\")"
   ]
  },
  {
   "cell_type": "markdown",
   "id": "7a5cd983",
   "metadata": {},
   "source": [
    "### Zadanie 2: Histogram 10 najczęstszych produktów"
   ]
  },
  {
   "cell_type": "code",
   "execution_count": null,
   "id": "bc3caa3a",
   "metadata": {},
   "outputs": [],
   "source": [
    "product_counts = df.sum().sort_values(ascending=False).head(10)\n",
    "plt.figure(figsize=(10, 6))\n",
    "product_counts.plot(kind='bar')\n",
    "plt.xlabel('Produkty')\n",
    "plt.ylabel('Liczba wystąpień')\n",
    "plt.title('10 najczęściej występujących produktów')\n",
    "plt.xticks(rotation=45)\n",
    "plt.tight_layout()\n",
    "plt.show()"
   ]
  },
  {
   "cell_type": "markdown",
   "id": "f2c2aa33",
   "metadata": {},
   "source": [
    "### Zadanie 3: Reguły asocjacyjne (support 25%, confidence 0.70)"
   ]
  },
  {
   "cell_type": "code",
   "execution_count": null,
   "id": "7d17524e",
   "metadata": {},
   "outputs": [],
   "source": [
    "frequent_itemsets_25 = apriori(df, min_support=0.25, use_colnames=True)\n",
    "rules = association_rules(frequent_itemsets_25, metric=\"confidence\", min_threshold=0.70)\n",
    "print(rules[['antecedents', 'consequents', 'support', 'confidence', 'lift']])"
   ]
  },
  {
   "cell_type": "markdown",
   "id": "3902d421",
   "metadata": {},
   "source": [
    "### Zadanie 4: Reguły prowadzące do high (support 16%, confidence 0.50)"
   ]
  },
  {
   "cell_type": "code",
   "execution_count": null,
   "id": "8648b546",
   "metadata": {},
   "outputs": [],
   "source": [
    "frequent_itemsets_16 = apriori(df, min_support=0.16, use_colnames=True)\n",
    "rules_high = association_rules(frequent_itemsets_16, metric=\"confidence\", min_threshold=0.50)\n",
    "rules_high_only = rules_high[rules_high['consequents'] == {'high'}]\n",
    "print(rules_high_only[['antecedents', 'consequents', 'support', 'confidence', 'lift']])"
   ]
  },
  {
   "cell_type": "markdown",
   "id": "23fa7733",
   "metadata": {},
   "source": [
    "### Interpretacja wyników:\n",
    "- coś tam coś tam\n",
    "- tamto owamto\n",
    "- wnioski"
   ]
  }
 ],
 "metadata": {
  "language_info": {
   "name": "python"
  }
 },
 "nbformat": 4,
 "nbformat_minor": 5
}
