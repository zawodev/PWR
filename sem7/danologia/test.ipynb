{
 "cells": [
  {
   "cell_type": "markdown",
   "id": "826765dd",
   "metadata": {},
   "source": [
    "```this is markdown``` nice"
   ]
  },
  {
   "cell_type": "markdown",
   "id": "86d69ca3",
   "metadata": {},
   "source": [
    "- yes"
   ]
  },
  {
   "cell_type": "markdown",
   "id": "299c320a",
   "metadata": {},
   "source": [
    "## no"
   ]
  },
  {
   "cell_type": "code",
   "execution_count": null,
   "id": "84c0b2a9",
   "metadata": {},
   "outputs": [
    {
     "name": "stdout",
     "output_type": "stream",
     "text": [
      "0\n",
      "1\n",
      "2\n"
     ]
    }
   ],
   "source": [
    "[x**2 for x in range(10) if x%2 == 0]\n",
    "[x**2 for x in range(10) if not (x%2)]\n",
    "[x**2 for x in range(10) if not (x%2 == 1)]\n",
    "[x**2 for x in range(10) if x%2 < 1]\n",
    "[x**2 for x in range(10, 1, 2)]\n"
   ]
  }
 ],
 "metadata": {
  "kernelspec": {
   "display_name": "Python 3",
   "language": "python",
   "name": "python3"
  },
  "language_info": {
   "codemirror_mode": {
    "name": "ipython",
    "version": 3
   },
   "file_extension": ".py",
   "mimetype": "text/x-python",
   "name": "python",
   "nbconvert_exporter": "python",
   "pygments_lexer": "ipython3",
   "version": "3.13.7"
  }
 },
 "nbformat": 4,
 "nbformat_minor": 5
}
