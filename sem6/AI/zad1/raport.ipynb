{
 "cells": [
  {
   "cell_type": "markdown",
   "metadata": {},
   "source": [
    "# Sztuczna inteligencja i inżynieria wiedzy Lista 1 Raport – Aleksander Stepaniuk 272644\n",
    "\n",
    "Najważniejsze fragmenty kodu:\n",
    "\n",
    "- Funkcje pomocnicze (obliczanie odległości, konwersje czasu, wyświetlanie rozkładu jazdy)\n",
    "- Logger do wyświetlania komunikatów\n",
    "- Graf połączeń komunikacji miejskiej (klasa `TransitGraph`) oraz połączenia (klasa `Connection`)\n",
    "- Wyszukiwanie ścieżki za pomocą A* (klasa `PathFinder`)\n",
    "- Rozwiązanie TSP metodą Tabu Search (klasa `TabuSearchTSP`)\n"
   ],
   "id": "a0a9138087249e9"
  },
  {
   "cell_type": "markdown",
   "metadata": {},
   "source": [
    "## 1. Reprezentacja grafu\n",
    "### a) – `Connection`\n",
    "zawiera informacje o pojedynczym połączeniu między dwoma przystankami, w tym:\n",
    "- identyfikator,\n",
    "- przewoźnik,\n",
    "- numer linii,\n",
    "- czas odjazdu i przyjazdu,\n",
    "- nazwy przystanków,\n",
    "- współrzędne geograficzne.\n"
   ],
   "id": "71766e72539a0635"
  },
  {
   "metadata": {},
   "cell_type": "code",
   "outputs": [],
   "execution_count": null,
   "source": [
    "def time_to_seconds(time_str: str) -> int:\n",
    "    pass\n",
    "\n",
    "class Connection:\n",
    "    def __init__(self, row):\n",
    "        self.id = row['id']\n",
    "        self.company = row['company']\n",
    "        self.line = row['line']\n",
    "        self.departure_time = time_to_seconds(row['departure_time'])\n",
    "        self.arrival_time = time_to_seconds(row['arrival_time'])\n",
    "        self.start_stop = row['start_stop'].lower()\n",
    "        self.end_stop = row['end_stop'].lower()\n",
    "        self.start_stop_lat = float(row['start_stop_lat'])\n",
    "        self.start_stop_lon = float(row['start_stop_lon'])\n",
    "        self.end_stop_lat = float(row['end_stop_lat'])\n",
    "        self.end_stop_lon = float(row['end_stop_lon'])"
   ],
   "id": "d1d7fd837631cdc7"
  },
  {
   "metadata": {},
   "cell_type": "markdown",
   "source": [
    "### b) – `TransitGraph`\n",
    "klasa zawiera pola:\n",
    "- `connections_by_stop`: lista połączeń z danego przystanku,\n",
    "- `edges_by_pair`: lista połączeń między parami przystanków, \n",
    "- `nodes`: zbiór sąsiadów, czyli przystanków, do których można dojechać bezpośrednio z danego przystanku,\n",
    "- `stops_coords`: współrzędne geograficzne przystanków."
   ],
   "id": "8283ce371660a709"
  },
  {
   "metadata": {},
   "cell_type": "code",
   "outputs": [],
   "execution_count": null,
   "source": [
    "from collections import defaultdict\n",
    "class TransitGraph:\n",
    "    def __init__(self, csv_path: str, logger):\n",
    "        self.logger = logger\n",
    "        self.connections_by_stop = defaultdict(list)\n",
    "        self.edges_by_pair = defaultdict(list)\n",
    "        self.nodes = defaultdict(set)\n",
    "        self.stops_coords = {}\n",
    "        self._load_csv(csv_path)"
   ],
   "id": "5a9438dfd4d1f125"
  },
  {
   "cell_type": "markdown",
   "metadata": {},
   "source": [
    "## 2. Wyszukiwanie ścieżki – klasa `PathFinder` (A*)\n",
    "\n",
    "metoda `optimized_a_star` realizuje wyszukiwanie ścieżki:\n",
    "\n",
    "- **Heurystyka**: obliczana przez `heuristic_time` na podstawie odległości (funkcja `haversine`) i średniej prędkości.\n",
    "- **Sąsiedzi**: funkcja `_get_next_connections` wybiera kolejne dostępne połączenia. Zależnie od trybu są to albo wszystkie połączenia po obecnym czasie, albo jedno najlepsze z danego startowego punktu do danego końcowego.\n",
    "\n",
    "\n"
   ],
   "id": "f5dc9c84dfae266b"
  },
  {
   "metadata": {},
   "cell_type": "code",
   "outputs": [],
   "execution_count": null,
   "source": [
    "class PathFinder:\n",
    "    def __init__(self, graph: TransitGraph, logger, avg_speed_kmh: float = 20.0, transfer_threshold: int = 300):\n",
    "        self.graph = graph\n",
    "        self.logger = logger\n",
    "        self.avg_speed = avg_speed_kmh / 3600.0  # km/s\n",
    "        self.transfer_threshold = transfer_threshold"
   ],
   "id": "e733148cf6c94d7c"
  },
  {
   "cell_type": "markdown",
   "metadata": {},
   "source": [
    "## 3. `TabuSearchTSP`\n",
    "\n",
    "Klasa `TabuSearchTSP` wykorzystuje heurystykę Tabu Search do optymalizacji kolejności odwiedzania przystanków. Zawiera:\n",
    "\n",
    "#### Pola:\n",
    "- `graph`: graf połączeń,\n",
    "- `logger`: logger,\n",
    "- `pathfinder`: obiekt do wyszukiwania ścieżek,\n",
    "- `mode`: tryb kosztu (czas lub przesiadki),\n",
    "- `cost_cache`: dictionary cache dla obliczonych kosztów.\n",
    "\n",
    "#### Metody:\n",
    "- `build_cost_matrix`: buduje macierz kosztów między wszystkimi przystankami przy użyciu A* (funkcja `compute_cost_between`),\n",
    "- `get_neighbors`: generuje sąsiednie rozwiązania przez zamianę elementów (poza punktem startowym).\n",
    "- `solve`: iteracyjnie poszukuje lepszego rozwiązania, unikając powtórzeń dzięki liście tabu.\n",
    "\n",
    "\n"
   ],
   "id": "addef14ba77bfbee"
  },
  {
   "metadata": {},
   "cell_type": "code",
   "outputs": [],
   "execution_count": null,
   "source": [
    "class TabuSearchTSP:\n",
    "    def __init__(self, graph: TransitGraph, logger, pathfinder: PathFinder, mode='t'):\n",
    "        self.graph = graph\n",
    "        self.logger = logger\n",
    "        self.pathfinder = pathfinder\n",
    "        self.mode = mode.lower()\n",
    "        self.cost_cache = {}"
   ],
   "id": "17ad82d523e284d"
  },
  {
   "metadata": {},
   "cell_type": "markdown",
   "source": "`get_neighbors` zwraca rozwiązania odległe o jedno zamienione miejsce:",
   "id": "153293214c69776d"
  },
  {
   "metadata": {},
   "cell_type": "code",
   "outputs": [],
   "execution_count": null,
   "source": [
    "import random \n",
    "\n",
    "def get_neighbors(self, solution, sample_size=None):\n",
    "    neighbors = []\n",
    "    n = len(solution)\n",
    "    for i in range(1, n):\n",
    "        for j in range(i + 1, n):\n",
    "            new_sol = solution[:]\n",
    "            new_sol[i], new_sol[j] = new_sol[j], new_sol[i]\n",
    "            neighbors.append(tuple(new_sol))\n",
    "    if sample_size is not None and len(neighbors) > sample_size:\n",
    "        neighbors = random.sample(neighbors, sample_size)\n",
    "    return neighbors"
   ],
   "id": "1d33c785bccb33c1"
  },
  {
   "metadata": {},
   "cell_type": "markdown",
   "source": [
    "## 4. Funkcja główna – `main`\n",
    "\n",
    "Funkcja `main` inicjalizuje logger, graf, oraz obiekty odpowiedzialne za wyszukiwanie ścieżek i rozwiązywanie TabuSearch. W zależności od wejścia użytkownika (czy drugi input zawiera średnik) wybierany jest tryb do zadania 1 lub 2. \n",
    "\n",
    "Liczy też łączny czas i wyświetla informacje przy użyciu funkcji `print_schedule`.\n",
    "\n"
   ],
   "id": "2dc9e63080be45a7"
  },
  {
   "metadata": {},
   "cell_type": "markdown",
   "source": [
    "## 5. Heurystyka\n",
    "\n",
    "Funkcja ta dla dwóch przystanków oblicza czas podróży między nimi na podstawie odległości i średniej prędkości. Używam tego jako heurystyki w A*."
   ],
   "id": "d4e3af85de946f89"
  },
  {
   "metadata": {},
   "cell_type": "code",
   "outputs": [],
   "execution_count": null,
   "source": [
    "import math \n",
    "\n",
    "def haversine(lat1, lon1, lat2, lon2):\n",
    "    R = 6371  # km\n",
    "    phi1 = math.radians(lat1)\n",
    "    phi2 = math.radians(lat2)\n",
    "    dphi = math.radians(lat2 - lat1)\n",
    "    dlambda = math.radians(lon2 - lon1)\n",
    "    a = math.sin(dphi / 2)**2 + math.cos(phi1)*math.cos(phi2)*math.sin(dlambda / 2)**2\n",
    "    c = 2 * math.atan2(math.sqrt(a), math.sqrt(1-a))\n",
    "    return R * c\n",
    "\n",
    "def heuristic_time(self, current_stop: str, target_stop: str) -> float:\n",
    "    if current_stop not in self.graph.stops_coords or target_stop not in self.graph.stops_coords:\n",
    "        return 0\n",
    "    lat1, lon1 = self.graph.stops_coords[current_stop]\n",
    "    lat2, lon2 = self.graph.stops_coords[target_stop]\n",
    "    distance = haversine(lat1, lon1, lat2, lon2)\n",
    "    return distance / self.avg_speed"
   ],
   "id": "d6819b2fe4fa51e5"
  },
  {
   "metadata": {},
   "cell_type": "markdown",
   "source": [
    "## 6. Funkcje kosztu\n",
    "Wykorzystałem dwie funkcje kosztu:\n",
    "- **czas podróży**: łączny czas podróży między przystankami (czas oczekiwania + czas transportu),\n",
    "- **ilość przesiadek**: liczba przesiadek na trasie (zmiana linii)."
   ],
   "id": "cdc319cdc1b12c5c"
  },
  {
   "metadata": {},
   "cell_type": "code",
   "outputs": [],
   "execution_count": null,
   "source": [
    "# pseudocode dla kosztu czasu\n",
    "... # fragment a*\n",
    "if mode in ('t', 'time'):\n",
    "    wait = eff_dep - current_time\n",
    "    travel = eff_arr - eff_dep\n",
    "    new_g = g + wait + travel\n",
    "    ...\n",
    "else:\n",
    "    # mode is transfers ('p')\n",
    "..."
   ],
   "id": "31f5877aeb37760d"
  },
  {
   "metadata": {},
   "cell_type": "code",
   "outputs": [],
   "execution_count": null,
   "source": [
    "# pseudocode dla kosztu przesiadek\n",
    "if current_line is None:\n",
    "    additional = 0\n",
    "else:\n",
    "    additional = 1 if (next_line != current_line or wait > self.transfer_threshold) else 0\n",
    "new_g = g + additional\n",
    "new_f = new_g * L + eff_arr\n",
    "\n"
   ],
   "id": "950b4cc01fde0b61"
  },
  {
   "metadata": {},
   "cell_type": "markdown",
   "source": [
    "## 7. Wnioski\n",
    "\n",
    "a) Algorytm Dijkstry zawsze znajdzie najkrótszą trasę, ale kosztem przeszukania wszystkich możliwych ścieżek (dlatego jest wolniejszy).\n",
    "\n",
    "b) A* jest bardziej efektywny, ponieważ wykorzystuje heurystykę do ograniczenia przeszukiwania. W przypadku dużych grafów A* może być znacznie szybszy niż Dijkstra. Czasami A* może nie znaleźć optymalnej trasy, ale w praktyce często daje bardzo dobre wyniki. \n",
    "\n",
    "c) W przypadku problemu TSP Tabu Search jest bardziej efektywny niż czysty brute-force, ale wymaga dobrego dobrania parametrów (np. długości listy tabu, liczby iteracji itd.) do specyfiki problemu. "
   ],
   "id": "fe46192d3e7b59f7"
  },
  {
   "metadata": {},
   "cell_type": "markdown",
   "source": [
    "## 8. Napotkane problemy\n",
    "a) Przy dużych grafach (np. 1000 przystanków) algorytm Dijkstry może być bardzo wolny, dlatego użyłem A* z heurystyką.\n",
    "\n",
    "b) W przypadku TSP Tabu Search może utknąć w lokalnych minimach, dlatego zastosowałem różne techniki, takie jak losowe przeszukiwanie sąsiedztwa i dynamiczne dostosowywanie długości listy tabu.\n"
   ],
   "id": "679e0e556a809039"
  },
  {
   "metadata": {},
   "cell_type": "markdown",
   "source": [
    "## 9. Dodatkowe Uwagi\n",
    "a) Zastosowałem różne metody dodatkowych optymalizacji algorytmów, takie jak cache'owanie kosztów w Tabu Search, czy wyszukiwanie binarne aby przyspieszyć obliczenia."
   ],
   "id": "2e12d5a74b9d7cf2"
  },
  {
   "metadata": {},
   "cell_type": "code",
   "outputs": [],
   "execution_count": null,
   "source": [
    "import bisect\n",
    "def get_connections_from(self, stop: str, current_time: int):\n",
    "    conns, dep_times = self.connections_by_stop[stop]\n",
    "    current_day_time = current_time % 86400\n",
    "    idx = bisect.bisect_left(dep_times, current_day_time)\n",
    "    # ...ciąg dalszy...\n",
    "    # for c in conns[idx:]:\n",
    "    #    ....\n",
    "    # for c in conns[:idx]:\n",
    "    #    ....\n",
    "    "
   ],
   "id": "2f6b26a086cc7a83"
  },
  {
   "metadata": {},
   "cell_type": "code",
   "outputs": [],
   "execution_count": null,
   "source": [
    "def compute_cost_between(self, start, end, start_time):\n",
    "    key = (start, end, self.mode, start_time)\n",
    "    if key in self.cost_cache:\n",
    "        return self.cost_cache[key]\n",
    "    if self.mode in ('t', 'time'):\n",
    "        _, cost, _ = self.pathfinder.optimized_a_star(start, end, start_time, mode='time')\n",
    "    elif self.mode in ('p', 'transfers'):\n",
    "        _, cost, _ = self.pathfinder.optimized_a_star(start, end, start_time, mode='transfers')\n",
    "    else:\n",
    "        raise ValueError(\"Nieznany tryb optymalizacji\")\n",
    "    self.cost_cache[key] = cost\n",
    "    return cost"
   ],
   "id": "f74a321955198f43"
  },
  {
   "metadata": {},
   "cell_type": "markdown",
   "source": "b) W kodzie używam loggera do wyświetlania komunikatów, co ułatwia debugowanie i śledzenie postępu.",
   "id": "58a3c89a119273ea"
  },
  {
   "metadata": {},
   "cell_type": "code",
   "outputs": [],
   "execution_count": null,
   "source": [
    "import logging\n",
    "import time\n",
    "\n",
    "class Logger:\n",
    "    def __init__(self):\n",
    "        self.start_time = time.time()\n",
    "        logging.basicConfig(level=logging.INFO, format=\"%(message)s\")\n",
    "        self.logger = logging.getLogger(\"JourneyPlanner\")\n",
    "\n",
    "    def log(self, message: str):\n",
    "        elapsed = time.time() - self.start_time\n",
    "        self.logger.info(f\"[{elapsed:.2f} s] {message}\")"
   ],
   "id": "1689fd22b2ed8fe8"
  },
  {
   "metadata": {},
   "cell_type": "markdown",
   "source": "c) Kod posiada dwa różne tryby - szybki i dokładny, który pozwala dostosować czy zależy nam na precyzji czy szybkości obliczeń. Dla większości przypadków wystarczy tryb szybki, ale dla bardziej skomplikowanych tras i dużej ilości czasu (około średnio 100 razy dłużej) można użyć trybu dokładnego.",
   "id": "218ca296f1f31c38"
  },
  {
   "metadata": {},
   "cell_type": "code",
   "outputs": [],
   "execution_count": null,
   "source": [
    "# TRUE -> fast, but not always optimal\n",
    "# FALSE -> slow, but (i think) always optimal\n",
    "USE_FAST_CONNECTION_SEARCH = True"
   ],
   "id": "2a7d5c377a18f7f6"
  },
  {
   "metadata": {},
   "cell_type": "markdown",
   "source": "",
   "id": "bcda944f6e6a3e3b"
  }
 ],
 "metadata": {
  "kernelspec": {
   "display_name": "Python 3",
   "language": "python",
   "name": "python3"
  },
  "language_info": {
   "name": "python",
   "version": "3.x"
  }
 },
 "nbformat": 4,
 "nbformat_minor": 5
}
